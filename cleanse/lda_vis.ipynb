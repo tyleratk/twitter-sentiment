{
 "cells": [
  {
   "cell_type": "code",
   "execution_count": 1,
   "metadata": {},
   "outputs": [],
   "source": [
    "import pickle\n",
    "import pandas as pd\n",
    "import spacy\n",
    "\n",
    "nlp = spacy.load('en')\n",
    "\n",
    "import re\n",
    "import pyLDAvis\n",
    "from sklearn.feature_extraction.text import CountVectorizer, TfidfVectorizer\n",
    "from sklearn.decomposition import LatentDirichletAllocation\n",
    "from nltk.stem import WordNetLemmatizer \n",
    "import numpy as np\n",
    "from sklearn.feature_extraction.stop_words import ENGLISH_STOP_WORDS\n",
    "STOPLIST = set(list(ENGLISH_STOP_WORDS) + [\"n't\",\"'s\",\"'m\",\"ca\",\"'\",\"'re\",\"pron\"])"
   ]
  },
  {
   "cell_type": "code",
   "execution_count": 2,
   "metadata": {},
   "outputs": [],
   "source": [
    "# with open('../data/clean_tweets.pkl', 'rb') as picklefile:\n",
    "#     df = pickle.load(picklefile)"
   ]
  },
  {
   "cell_type": "code",
   "execution_count": null,
   "metadata": {},
   "outputs": [],
   "source": [
    "with open('../data/hashtag_corpus.pkl', 'rb') as picklefile:\n",
    "    text = pickle.load(picklefile)"
   ]
  },
  {
   "cell_type": "code",
   "execution_count": null,
   "metadata": {},
   "outputs": [],
   "source": [
    "text = df.sample(100).text.values"
   ]
  },
  {
   "cell_type": "code",
   "execution_count": 4,
   "metadata": {},
   "outputs": [],
   "source": [
    "def get_tokens(text):  \n",
    "    \"\"\"Return lemmatized tokens.\"\"\"\n",
    "    text = re.sub(r\"http\\S+\", \"\", text) \n",
    "    letters_only = re.sub(\"[^a-zA-Z]\", \" \", text) \n",
    "    words = ' '.join(letters_only.lower().split())\n",
    "    try:\n",
    "        tokens = [token.lemma_ for token in nlp(words)] \n",
    "    except:\n",
    "        tokens = [token.lemma_ for token in nlp(words.decode('utf8'))] \n",
    "    filtered = [t for t in tokens if t != '' and t != ' ' and t != '\\n' and t != '\\n\\n']\n",
    "    return ' '.join(filtered)"
   ]
  },
  {
   "cell_type": "code",
   "execution_count": null,
   "metadata": {},
   "outputs": [],
   "source": [
    "tokens = [get_tokens(tweet) for tweet in text]"
   ]
  },
  {
   "cell_type": "code",
   "execution_count": null,
   "metadata": {},
   "outputs": [],
   "source": [
    "# def prep_pylda(docs, n_components = 5):   \n",
    "#     vect = TfidfVectorizer(max_df = 0.5, max_features = 10000,\n",
    "#                                  min_df = 5, stop_words = STOPLIST,\n",
    "#                                  use_idf = True, tokenizer = None, ngram_range=(1, 3))\n",
    "#     matrix = vect.fit_transform(docs)\n",
    "#     vocab = vect.get_feature_names()\n",
    "    \n",
    "#     # fit transform lda\n",
    "#     lda = LatentDirichletAllocation(n_components=n_components, max_iter=5,\n",
    "#                 learning_method='online', learning_offset=50.,\n",
    "#                 random_state=0, doc_topic_prior = .001)\n",
    "#     doc_topic_dists = lda.fit_transform(matrix)\n",
    "    \n",
    "#     # prepare pyLDAvis stuff \n",
    "#     get_normed = lambda data: pd.DataFrame(data).div(data.sum(axis = 1), axis = 0)\n",
    "#     doc_lengths = [len(tok) for tok in docs]\n",
    "#     prepared = pyLDAvis.prepare(\n",
    "#             doc_lengths = doc_lengths,\n",
    "#             vocab = vocab,\n",
    "#             term_frequency = np.asarray(matrix.sum(axis = 0)).ravel().tolist(),\n",
    "#             topic_term_dists = get_normed(lda.components_),  \n",
    "#             doc_topic_dists = get_normed(doc_topic_dists)) \n",
    "    \n",
    "#     return prepared"
   ]
  },
  {
   "cell_type": "code",
   "execution_count": null,
   "metadata": {},
   "outputs": [],
   "source": [
    "def prep_pylda(docs, n_components = 5):   \n",
    "    vect = CountVectorizer(min_df=2)\n",
    "    matrix = vect.fit_transform(docs)\n",
    "    vocab = vect.get_feature_names()\n",
    "    \n",
    "    # fit transform lda\n",
    "    lda = LatentDirichletAllocation(n_components=n_components, max_iter=10,\n",
    "                                    learning_method='online',\n",
    "                                    learning_offset=50.,\n",
    "                                    random_state=0)\n",
    "    doc_topic_dists = lda.fit_transform(matrix)\n",
    "    \n",
    "    # prepare pyLDAvis stuff \n",
    "    get_normed = lambda data: pd.DataFrame(data).div(data.sum(axis = 1), axis = 0)\n",
    "    doc_lengths = [len(tok) for tok in docs]\n",
    "    prepared = pyLDAvis.prepare(\n",
    "            doc_lengths = doc_lengths,\n",
    "            vocab = vocab,\n",
    "            term_frequency = np.asarray(matrix.sum(axis = 0)).ravel().tolist(),\n",
    "            topic_term_dists = get_normed(lda.components_),  \n",
    "            doc_topic_dists = get_normed(doc_topic_dists)) \n",
    "    \n",
    "    return prepared"
   ]
  },
  {
   "cell_type": "code",
   "execution_count": null,
   "metadata": {},
   "outputs": [],
   "source": [
    "prepared = prep_pylda(text, n_components = 20)"
   ]
  },
  {
   "cell_type": "code",
   "execution_count": null,
   "metadata": {},
   "outputs": [],
   "source": [
    "# display in notebook\n",
    "pyLDAvis.display(prepared)"
   ]
  },
  {
   "cell_type": "code",
   "execution_count": null,
   "metadata": {},
   "outputs": [],
   "source": []
  },
  {
   "cell_type": "code",
   "execution_count": null,
   "metadata": {},
   "outputs": [],
   "source": []
  },
  {
   "cell_type": "code",
   "execution_count": null,
   "metadata": {},
   "outputs": [],
   "source": []
  }
 ],
 "metadata": {
  "kernelspec": {
   "display_name": "Python 3",
   "language": "python",
   "name": "python3"
  },
  "language_info": {
   "codemirror_mode": {
    "name": "ipython",
    "version": 3
   },
   "file_extension": ".py",
   "mimetype": "text/x-python",
   "name": "python",
   "nbconvert_exporter": "python",
   "pygments_lexer": "ipython3",
   "version": "3.6.4"
  }
 },
 "nbformat": 4,
 "nbformat_minor": 2
}
