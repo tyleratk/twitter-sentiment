{
 "cells": [
  {
   "cell_type": "code",
   "execution_count": 3,
   "metadata": {},
   "outputs": [],
   "source": [
    "import matplotlib.pyplot as plt\n",
    "import seaborn as sns\n",
    "import pickle\n",
    "from sklearn.feature_extraction.text import TfidfVectorizer, CountVectorizer\n",
    "from sklearn.decomposition import NMF,LatentDirichletAllocation\n",
    "%matplotlib inline"
   ]
  },
  {
   "cell_type": "code",
   "execution_count": 4,
   "metadata": {},
   "outputs": [],
   "source": [
    "with open('../data/clean_tweets.pkl', 'rb') as infile:\n",
    "    df = pickle.load(infile)"
   ]
  },
  {
   "cell_type": "code",
   "execution_count": 3,
   "metadata": {},
   "outputs": [
    {
     "data": {
      "text/plain": [
       "(809416, 19)"
      ]
     },
     "execution_count": 3,
     "metadata": {},
     "output_type": "execute_result"
    }
   ],
   "source": [
    "df.shape"
   ]
  },
  {
   "cell_type": "code",
   "execution_count": 4,
   "metadata": {},
   "outputs": [
    {
     "data": {
      "text/html": [
       "<div>\n",
       "<style scoped>\n",
       "    .dataframe tbody tr th:only-of-type {\n",
       "        vertical-align: middle;\n",
       "    }\n",
       "\n",
       "    .dataframe tbody tr th {\n",
       "        vertical-align: top;\n",
       "    }\n",
       "\n",
       "    .dataframe thead th {\n",
       "        text-align: right;\n",
       "    }\n",
       "</style>\n",
       "<table border=\"1\" class=\"dataframe\">\n",
       "  <thead>\n",
       "    <tr style=\"text-align: right;\">\n",
       "      <th></th>\n",
       "      <th>_id</th>\n",
       "      <th>coordinates</th>\n",
       "      <th>coordinates_type</th>\n",
       "      <th>country</th>\n",
       "      <th>created_at</th>\n",
       "      <th>default_profile_image</th>\n",
       "      <th>hash_tags</th>\n",
       "      <th>lang</th>\n",
       "      <th>text</th>\n",
       "      <th>tweet_location</th>\n",
       "      <th>user_created</th>\n",
       "      <th>user_followers</th>\n",
       "      <th>user_following</th>\n",
       "      <th>user_likes</th>\n",
       "      <th>user_location</th>\n",
       "      <th>user_num_tweets</th>\n",
       "      <th>user_screen_name</th>\n",
       "      <th>sentiment</th>\n",
       "      <th>sentiment_type</th>\n",
       "    </tr>\n",
       "  </thead>\n",
       "  <tbody>\n",
       "    <tr>\n",
       "      <th>0</th>\n",
       "      <td>5a5abc8f4dd9627aad3c1326</td>\n",
       "      <td>None</td>\n",
       "      <td>None</td>\n",
       "      <td>United States</td>\n",
       "      <td>Sun Jan 07 18:21:57 +0000 2018</td>\n",
       "      <td>False</td>\n",
       "      <td>[]</td>\n",
       "      <td>en</td>\n",
       "      <td>Because they’ll clap at a opp or someone who d...</td>\n",
       "      <td>Los Angeles, CA</td>\n",
       "      <td>Fri Aug 06 17:54:32 +0000 2010</td>\n",
       "      <td>1410</td>\n",
       "      <td>219</td>\n",
       "      <td>2253</td>\n",
       "      <td>Outer Space ↔️City of Angels</td>\n",
       "      <td>36230</td>\n",
       "      <td>ForeverKofi</td>\n",
       "      <td>-0.8720</td>\n",
       "      <td>neg</td>\n",
       "    </tr>\n",
       "    <tr>\n",
       "      <th>1</th>\n",
       "      <td>5a5abc8f4dd9627aad3c1327</td>\n",
       "      <td>[26.6167555, -80.0684479]</td>\n",
       "      <td>Point</td>\n",
       "      <td>United States</td>\n",
       "      <td>Sun Jan 07 18:21:57 +0000 2018</td>\n",
       "      <td>False</td>\n",
       "      <td>[{'text': 'job', 'indices': [34, 38]}]</td>\n",
       "      <td>en</td>\n",
       "      <td>Can you recommend anyone for this ? Daily Subs...</td>\n",
       "      <td>Lake Worth, FL</td>\n",
       "      <td>Sat Aug 21 04:43:48 +0000 2010</td>\n",
       "      <td>392</td>\n",
       "      <td>225</td>\n",
       "      <td>0</td>\n",
       "      <td>Florida</td>\n",
       "      <td>161</td>\n",
       "      <td>tmj_FL_EDU</td>\n",
       "      <td>0.3612</td>\n",
       "      <td>neu</td>\n",
       "    </tr>\n",
       "    <tr>\n",
       "      <th>2</th>\n",
       "      <td>5a5abc8f4dd9627aad3c1328</td>\n",
       "      <td>None</td>\n",
       "      <td>None</td>\n",
       "      <td>United States</td>\n",
       "      <td>Sun Jan 07 18:21:57 +0000 2018</td>\n",
       "      <td>False</td>\n",
       "      <td>[]</td>\n",
       "      <td>en</td>\n",
       "      <td>Memes to cope and I’m off work tomorrow</td>\n",
       "      <td>Waco, TX</td>\n",
       "      <td>Mon Oct 27 02:05:39 +0000 2008</td>\n",
       "      <td>565</td>\n",
       "      <td>359</td>\n",
       "      <td>10048</td>\n",
       "      <td>Waco, Texas</td>\n",
       "      <td>28053</td>\n",
       "      <td>dirtybohemia</td>\n",
       "      <td>0.0000</td>\n",
       "      <td>neu</td>\n",
       "    </tr>\n",
       "    <tr>\n",
       "      <th>3</th>\n",
       "      <td>5a5abc8f4dd9627aad3c1329</td>\n",
       "      <td>None</td>\n",
       "      <td>None</td>\n",
       "      <td>United States</td>\n",
       "      <td>Sun Jan 07 18:21:57 +0000 2018</td>\n",
       "      <td>False</td>\n",
       "      <td>[]</td>\n",
       "      <td>en</td>\n",
       "      <td>I cannot wait for August</td>\n",
       "      <td>Muncie, IN</td>\n",
       "      <td>Sat Jun 23 21:37:47 +0000 2012</td>\n",
       "      <td>533</td>\n",
       "      <td>850</td>\n",
       "      <td>9986</td>\n",
       "      <td>trapped inside my head</td>\n",
       "      <td>5539</td>\n",
       "      <td>ejanepuckett</td>\n",
       "      <td>0.0000</td>\n",
       "      <td>neu</td>\n",
       "    </tr>\n",
       "    <tr>\n",
       "      <th>4</th>\n",
       "      <td>5a5abc8f4dd9627aad3c132a</td>\n",
       "      <td>None</td>\n",
       "      <td>None</td>\n",
       "      <td>United States</td>\n",
       "      <td>Sun Jan 07 18:21:57 +0000 2018</td>\n",
       "      <td>False</td>\n",
       "      <td>[]</td>\n",
       "      <td>en</td>\n",
       "      <td>is water wet?!</td>\n",
       "      <td>Sheffield Lake, OH</td>\n",
       "      <td>Mon Nov 04 20:39:21 +0000 2013</td>\n",
       "      <td>201</td>\n",
       "      <td>237</td>\n",
       "      <td>9986</td>\n",
       "      <td>None</td>\n",
       "      <td>1467</td>\n",
       "      <td>emdavis1522</td>\n",
       "      <td>0.0000</td>\n",
       "      <td>neu</td>\n",
       "    </tr>\n",
       "  </tbody>\n",
       "</table>\n",
       "</div>"
      ],
      "text/plain": [
       "                        _id                coordinates coordinates_type  \\\n",
       "0  5a5abc8f4dd9627aad3c1326                       None             None   \n",
       "1  5a5abc8f4dd9627aad3c1327  [26.6167555, -80.0684479]            Point   \n",
       "2  5a5abc8f4dd9627aad3c1328                       None             None   \n",
       "3  5a5abc8f4dd9627aad3c1329                       None             None   \n",
       "4  5a5abc8f4dd9627aad3c132a                       None             None   \n",
       "\n",
       "         country                      created_at  default_profile_image  \\\n",
       "0  United States  Sun Jan 07 18:21:57 +0000 2018                  False   \n",
       "1  United States  Sun Jan 07 18:21:57 +0000 2018                  False   \n",
       "2  United States  Sun Jan 07 18:21:57 +0000 2018                  False   \n",
       "3  United States  Sun Jan 07 18:21:57 +0000 2018                  False   \n",
       "4  United States  Sun Jan 07 18:21:57 +0000 2018                  False   \n",
       "\n",
       "                                hash_tags lang  \\\n",
       "0                                      []   en   \n",
       "1  [{'text': 'job', 'indices': [34, 38]}]   en   \n",
       "2                                      []   en   \n",
       "3                                      []   en   \n",
       "4                                      []   en   \n",
       "\n",
       "                                                text      tweet_location  \\\n",
       "0  Because they’ll clap at a opp or someone who d...     Los Angeles, CA   \n",
       "1  Can you recommend anyone for this ? Daily Subs...      Lake Worth, FL   \n",
       "2            Memes to cope and I’m off work tomorrow            Waco, TX   \n",
       "3                           I cannot wait for August          Muncie, IN   \n",
       "4                                     is water wet?!  Sheffield Lake, OH   \n",
       "\n",
       "                     user_created  user_followers  user_following  user_likes  \\\n",
       "0  Fri Aug 06 17:54:32 +0000 2010            1410             219        2253   \n",
       "1  Sat Aug 21 04:43:48 +0000 2010             392             225           0   \n",
       "2  Mon Oct 27 02:05:39 +0000 2008             565             359       10048   \n",
       "3  Sat Jun 23 21:37:47 +0000 2012             533             850        9986   \n",
       "4  Mon Nov 04 20:39:21 +0000 2013             201             237        9986   \n",
       "\n",
       "                   user_location  user_num_tweets user_screen_name  sentiment  \\\n",
       "0  Outer Space ↔️City of Angels             36230      ForeverKofi    -0.8720   \n",
       "1                        Florida              161       tmj_FL_EDU     0.3612   \n",
       "2                    Waco, Texas            28053     dirtybohemia     0.0000   \n",
       "3        trapped inside my head              5539     ejanepuckett     0.0000   \n",
       "4                           None             1467      emdavis1522     0.0000   \n",
       "\n",
       "  sentiment_type  \n",
       "0            neg  \n",
       "1            neu  \n",
       "2            neu  \n",
       "3            neu  \n",
       "4            neu  "
      ]
     },
     "execution_count": 4,
     "metadata": {},
     "output_type": "execute_result"
    }
   ],
   "source": [
    "df.head()"
   ]
  },
  {
   "cell_type": "code",
   "execution_count": 5,
   "metadata": {},
   "outputs": [],
   "source": [
    "gb = df.groupby('sentiment_type')"
   ]
  },
  {
   "cell_type": "code",
   "execution_count": 11,
   "metadata": {},
   "outputs": [],
   "source": [
    "num_of_pos = gb.get_group('pos').shape[0]"
   ]
  },
  {
   "cell_type": "code",
   "execution_count": 12,
   "metadata": {},
   "outputs": [],
   "source": [
    "num_of_neu = gb.get_group('neu').shape[0]"
   ]
  },
  {
   "cell_type": "code",
   "execution_count": 13,
   "metadata": {},
   "outputs": [],
   "source": [
    "num_of_neg = gb.get_group('neg').shape[0]"
   ]
  },
  {
   "cell_type": "code",
   "execution_count": 20,
   "metadata": {},
   "outputs": [
    {
     "data": {
      "text/plain": [
       "<matplotlib.axes._subplots.AxesSubplot at 0x1a14c182e8>"
      ]
     },
     "execution_count": 20,
     "metadata": {},
     "output_type": "execute_result"
    },
    {
     "data": {
      "image/png": "[encoded data removed]",
      "text/plain": [
       "<matplotlib.figure.Figure at 0x1a14bfe908>"
      ]
     },
     "metadata": {},
     "output_type": "display_data"
    }
   ],
   "source": [
    "fig = plt.figure(figsize=(20, 8))\n",
    "sns.barplot(['pos', 'nue', 'neg'], [num_of_pos, num_of_neu, num_of_neg])"
   ]
  },
  {
   "cell_type": "code",
   "execution_count": 30,
   "metadata": {},
   "outputs": [],
   "source": [
    "# fig = plt.figure(figsize=(14, 6))\n",
    "# ax1 = fig.add_subplot(311)\n",
    "# ax1.set_title('Positive')\n",
    "# ax2 = fig.add_subplot(312)\n",
    "# ax2.set_title('Neutral')\n",
    "# ax3 = fig.add_subplot(313)\n",
    "# ax3.set_title('Negative')\n",
    "\n",
    "# sns.violinplot(gb.get_group('pos').sentiment, ax=ax1)\n",
    "# sns.violinplot(gb.get_group('neu').sentiment, ax=ax2)\n",
    "# sns.violinplot(gb.get_group('neg').sentiment, ax=ax3)\n",
    "# plt.xlabel('Sentiment')\n",
    "# plt.ylabel('')"
   ]
  },
  {
   "cell_type": "code",
   "execution_count": 31,
   "metadata": {},
   "outputs": [
    {
     "data": {
      "text/plain": [
       "Text(0.5,1,'Positive')"
      ]
     },
     "execution_count": 31,
     "metadata": {},
     "output_type": "execute_result"
    },
    {
     "data": {
      "image/png": "[encoded data removed]",
      "text/plain": [
       "<matplotlib.figure.Figure at 0x1a25a37d30>"
      ]
     },
     "metadata": {},
     "output_type": "display_data"
    }
   ],
   "source": [
    "sns.violinplot(gb.get_group('pos').sentiment)\n",
    "plt.title('Positive')"
   ]
  },
  {
   "cell_type": "code",
   "execution_count": 32,
   "metadata": {},
   "outputs": [
    {
     "data": {
      "text/plain": [
       "Text(0.5,1,'Neutral')"
      ]
     },
     "execution_count": 32,
     "metadata": {},
     "output_type": "execute_result"
    },
    {
     "data": {
      "image/png": "[encoded data removed]",
      "text/plain": [
       "<matplotlib.figure.Figure at 0x1a26fc5940>"
      ]
     },
     "metadata": {},
     "output_type": "display_data"
    }
   ],
   "source": [
    "sns.violinplot(gb.get_group('neu').sentiment)\n",
    "plt.title('Neutral')"
   ]
  },
  {
   "cell_type": "code",
   "execution_count": 33,
   "metadata": {},
   "outputs": [
    {
     "data": {
      "text/plain": [
       "Text(0.5,1,'Negative')"
      ]
     },
     "execution_count": 33,
     "metadata": {},
     "output_type": "execute_result"
    },
    {
     "data": {
      "image/png": "[encoded data removed]",
      "text/plain": [
       "<matplotlib.figure.Figure at 0x1a262e9278>"
      ]
     },
     "metadata": {},
     "output_type": "display_data"
    }
   ],
   "source": [
    "sns.violinplot(gb.get_group('neg').sentiment)\n",
    "plt.title('Negative')"
   ]
  },
  {
   "cell_type": "code",
   "execution_count": 41,
   "metadata": {},
   "outputs": [
    {
     "data": {
      "text/plain": [
       "pandas.core.frame.DataFrame"
      ]
     },
     "execution_count": 41,
     "metadata": {},
     "output_type": "execute_result"
    }
   ],
   "source": [
    "type(df[df.sentiment_type == 'pos'])"
   ]
  },
  {
   "cell_type": "code",
   "execution_count": 7,
   "metadata": {},
   "outputs": [
    {
     "data": {
      "text/html": [
       "<div>\n",
       "<style scoped>\n",
       "    .dataframe tbody tr th:only-of-type {\n",
       "        vertical-align: middle;\n",
       "    }\n",
       "\n",
       "    .dataframe tbody tr th {\n",
       "        vertical-align: top;\n",
       "    }\n",
       "\n",
       "    .dataframe thead th {\n",
       "        text-align: right;\n",
       "    }\n",
       "</style>\n",
       "<table border=\"1\" class=\"dataframe\">\n",
       "  <thead>\n",
       "    <tr style=\"text-align: right;\">\n",
       "      <th></th>\n",
       "      <th>text</th>\n",
       "      <th>sentiment</th>\n",
       "    </tr>\n",
       "  </thead>\n",
       "  <tbody>\n",
       "    <tr>\n",
       "      <th>799834</th>\n",
       "      <td>YES, YES, YES, YES, YES, YES, YES, YES, YES,...</td>\n",
       "      <td>0.9989</td>\n",
       "    </tr>\n",
       "    <tr>\n",
       "      <th>721411</th>\n",
       "      <td>yeah, yeaH, yeAH, yEAH, YEAH, YEAH, YEAH, YEAH...</td>\n",
       "      <td>0.9985</td>\n",
       "    </tr>\n",
       "    <tr>\n",
       "      <th>717570</th>\n",
       "      <td>YEP! YEP! YEP! YEP! YEP! YEP! YEP! YEP! YEP! ...</td>\n",
       "      <td>0.9984</td>\n",
       "    </tr>\n",
       "    <tr>\n",
       "      <th>688902</th>\n",
       "      <td>I love my dog. I love my dog. I love my dog. I...</td>\n",
       "      <td>0.9968</td>\n",
       "    </tr>\n",
       "    <tr>\n",
       "      <th>757100</th>\n",
       "      <td>stay positive stay positive stay positive stay...</td>\n",
       "      <td>0.9966</td>\n",
       "    </tr>\n",
       "    <tr>\n",
       "      <th>721881</th>\n",
       "      <td>II lI loI lovI loveI love II love itI love it ...</td>\n",
       "      <td>0.9965</td>\n",
       "    </tr>\n",
       "    <tr>\n",
       "      <th>728505</th>\n",
       "      <td>II lI loI lovI loveI love OI love Ol I love Ol...</td>\n",
       "      <td>0.9965</td>\n",
       "    </tr>\n",
       "    <tr>\n",
       "      <th>729735</th>\n",
       "      <td>II lI loI lovI loveI love OI love Ol I love ol...</td>\n",
       "      <td>0.9965</td>\n",
       "    </tr>\n",
       "    <tr>\n",
       "      <th>736986</th>\n",
       "      <td>I love  I love  I love  I love  I love  I love...</td>\n",
       "      <td>0.9963</td>\n",
       "    </tr>\n",
       "    <tr>\n",
       "      <th>730879</th>\n",
       "      <td>II lI loI lovI loveI love OI love Ol I love ol...</td>\n",
       "      <td>0.9960</td>\n",
       "    </tr>\n",
       "  </tbody>\n",
       "</table>\n",
       "</div>"
      ],
      "text/plain": [
       "                                                     text  sentiment\n",
       "799834    YES, YES, YES, YES, YES, YES, YES, YES, YES,...     0.9989\n",
       "721411  yeah, yeaH, yeAH, yEAH, YEAH, YEAH, YEAH, YEAH...     0.9985\n",
       "717570   YEP! YEP! YEP! YEP! YEP! YEP! YEP! YEP! YEP! ...     0.9984\n",
       "688902  I love my dog. I love my dog. I love my dog. I...     0.9968\n",
       "757100  stay positive stay positive stay positive stay...     0.9966\n",
       "721881  II lI loI lovI loveI love II love itI love it ...     0.9965\n",
       "728505  II lI loI lovI loveI love OI love Ol I love Ol...     0.9965\n",
       "729735  II lI loI lovI loveI love OI love Ol I love ol...     0.9965\n",
       "736986  I love  I love  I love  I love  I love  I love...     0.9963\n",
       "730879  II lI loI lovI loveI love OI love Ol I love ol...     0.9960"
      ]
     },
     "execution_count": 7,
     "metadata": {},
     "output_type": "execute_result"
    }
   ],
   "source": [
    "df[df.sentiment_type == 'pos'].sort_values('sentiment', ascending=False)[['text', 'sentiment']][:10]"
   ]
  },
  {
   "cell_type": "code",
   "execution_count": 6,
   "metadata": {},
   "outputs": [
    {
     "data": {
      "text/html": [
       "<div>\n",
       "<style scoped>\n",
       "    .dataframe tbody tr th:only-of-type {\n",
       "        vertical-align: middle;\n",
       "    }\n",
       "\n",
       "    .dataframe tbody tr th {\n",
       "        vertical-align: top;\n",
       "    }\n",
       "\n",
       "    .dataframe thead th {\n",
       "        text-align: right;\n",
       "    }\n",
       "</style>\n",
       "<table border=\"1\" class=\"dataframe\">\n",
       "  <thead>\n",
       "    <tr style=\"text-align: right;\">\n",
       "      <th></th>\n",
       "      <th>text</th>\n",
       "      <th>sentiment</th>\n",
       "    </tr>\n",
       "  </thead>\n",
       "  <tbody>\n",
       "    <tr>\n",
       "      <th>285657</th>\n",
       "      <td>Bro fuck work, fuck money, fuck guinea pigs, f...</td>\n",
       "      <td>-0.9902</td>\n",
       "    </tr>\n",
       "    <tr>\n",
       "      <th>453995</th>\n",
       "      <td>Nigga she said dedication how she hating shit...</td>\n",
       "      <td>-0.9897</td>\n",
       "    </tr>\n",
       "    <tr>\n",
       "      <th>431243</th>\n",
       "      <td>FUCK THAT IRON BOWL.. FUCK AUBURN.. FUCK STIDH...</td>\n",
       "      <td>-0.9894</td>\n",
       "    </tr>\n",
       "    <tr>\n",
       "      <th>371724</th>\n",
       "      <td>To hell to hell to hell with Ga, to hell to he...</td>\n",
       "      <td>-0.9884</td>\n",
       "    </tr>\n",
       "    <tr>\n",
       "      <th>42866</th>\n",
       "      <td>i hate a goofy grimy ass always in sum drama, ...</td>\n",
       "      <td>-0.9881</td>\n",
       "    </tr>\n",
       "    <tr>\n",
       "      <th>43556</th>\n",
       "      <td>i hate a goofy grimy ass always in sum drama, ...</td>\n",
       "      <td>-0.9881</td>\n",
       "    </tr>\n",
       "    <tr>\n",
       "      <th>671526</th>\n",
       "      <td>I hate this generation. I hate how everyone’s ...</td>\n",
       "      <td>-0.9879</td>\n",
       "    </tr>\n",
       "    <tr>\n",
       "      <th>255271</th>\n",
       "      <td>The NUMBER ONE DESTROYING AMERICA is LIAR IN ...</td>\n",
       "      <td>-0.9875</td>\n",
       "    </tr>\n",
       "    <tr>\n",
       "      <th>447652</th>\n",
       "      <td>I can never say this enough but yet I’m tired ...</td>\n",
       "      <td>-0.9867</td>\n",
       "    </tr>\n",
       "    <tr>\n",
       "      <th>496702</th>\n",
       "      <td>fuck FUCK YOU WE STAND AND ISREAL.  FUCK UN. ...</td>\n",
       "      <td>-0.9867</td>\n",
       "    </tr>\n",
       "  </tbody>\n",
       "</table>\n",
       "</div>"
      ],
      "text/plain": [
       "                                                     text  sentiment\n",
       "285657  Bro fuck work, fuck money, fuck guinea pigs, f...    -0.9902\n",
       "453995   Nigga she said dedication how she hating shit...    -0.9897\n",
       "431243  FUCK THAT IRON BOWL.. FUCK AUBURN.. FUCK STIDH...    -0.9894\n",
       "371724  To hell to hell to hell with Ga, to hell to he...    -0.9884\n",
       "42866   i hate a goofy grimy ass always in sum drama, ...    -0.9881\n",
       "43556   i hate a goofy grimy ass always in sum drama, ...    -0.9881\n",
       "671526  I hate this generation. I hate how everyone’s ...    -0.9879\n",
       "255271   The NUMBER ONE DESTROYING AMERICA is LIAR IN ...    -0.9875\n",
       "447652  I can never say this enough but yet I’m tired ...    -0.9867\n",
       "496702   fuck FUCK YOU WE STAND AND ISREAL.  FUCK UN. ...    -0.9867"
      ]
     },
     "execution_count": 6,
     "metadata": {},
     "output_type": "execute_result"
    }
   ],
   "source": [
    "df[df.sentiment_type == 'neg'].sort_values('sentiment')[['text', 'sentiment']][10:20]"
   ]
  },
  {
   "cell_type": "code",
   "execution_count": 5,
   "metadata": {},
   "outputs": [
    {
     "data": {
      "text/plain": [
       "'FUCK YOU FUCK YOU FUCK YOU FUCK YOU FUCK YOU FUCK YOU FUCK YOU FUCK YOU FUCK YOU FUCK YOU FUCK YOU FUCK YOU FUCK YOU FUCK YOU FUCK YOU FUCK YOU FUCK YOU FUCK YOU FUCK YOU FUCK YOU FUCK YOU FUCK YOU FUCK YOU FUCK YOU FUCK YOU FUCK YOU FUCK YOU FUCK YOU FUCK '"
      ]
     },
     "execution_count": 5,
     "metadata": {},
     "output_type": "execute_result"
    }
   ],
   "source": [
    "df.iloc[597633].text"
   ]
  },
  {
   "cell_type": "code",
   "execution_count": 1,
   "metadata": {},
   "outputs": [
    {
     "name": "stdout",
     "output_type": "stream",
     "text": [
      "\n",
      "Topics in NMF model:\n",
      "Topic 1:\n",
      "interested great texas north maybe folk flight florida focus yummy finish follow follower food football\n",
      "Topic 2:\n",
      "love fall know people miss tell watch girl song dude thing fucking baby guy rain\n",
      "Topic 3:\n",
      "happy birthday hope bday tuesday miss girl year sunday enjoy today make homie friend wait\n",
      "Topic 4:\n",
      "good friend luck thing morning hope look feel world know life year night time news\n",
      "Topic 5:\n",
      "thank follow share appreciate miss hope support girl glad make today goodness night bless sweet\n",
      "Topic 6:\n",
      "great manager time store technician associate game assistant hope service today team idea shift driver\n",
      "Topic 7:\n",
      "pron friend help hope life support need family appreciate tweet time start people trust welcome\n",
      "Topic 8:\n",
      "lmao nigga true need friend try know blow wild swear hear tell people wanna night\n",
      "Topic 9:\n",
      "want late work opening click team join beauty read view apply ulta advisor care seasonal\n",
      "Topic 10:\n",
      "just game make know play time look think amazing beautiful year need really come today\n",
      "\n",
      "\n",
      "Topics in NMF model:\n",
      "Topic 1:\n",
      "fuck bama niggas nigga georgia trump game shut rain outta today know dude holy alabama\n",
      "Topic 2:\n",
      "shit holy real talk niggas crazy right make year dumb piece really lose say look\n",
      "Topic 3:\n",
      "bitch come really niggas talk want shut money nigga literally dumb know right watch tell\n",
      "Topic 4:\n",
      "hate alabama people really fucking bama rain feel word work football absolutely love georgia twitter\n",
      "Topic 5:\n",
      "hell game happen holy sure shut think kick cold nigga change work coach class night\n",
      "Topic 6:\n",
      "pron know people make stop think stupid time bad need hurt really right want thing\n",
      "Topic 7:\n",
      "dead miss eye body sleep lmao right hear year try time come end really close\n",
      "Topic 8:\n",
      "sick feel make baby tired right head fucking know day georgia girl fan people watch\n",
      "Topic 9:\n",
      "just think want wanna happen say make break watch talk love need leave really thing\n",
      "Topic 10:\n",
      "kill game people time head try self come tryna girl sleep need follow today watch\n",
      "\n"
     ]
    }
   ],
   "source": [
    "%run nmf.py"
   ]
  },
  {
   "cell_type": "code",
   "execution_count": null,
   "metadata": {},
   "outputs": [],
   "source": []
  }
 ],
 "metadata": {
  "kernelspec": {
   "display_name": "Python 3",
   "language": "python",
   "name": "python3"
  },
  "language_info": {
   "codemirror_mode": {
    "name": "ipython",
    "version": 3
   },
   "file_extension": ".py",
   "mimetype": "text/x-python",
   "name": "python",
   "nbconvert_exporter": "python",
   "pygments_lexer": "ipython3",
   "version": "3.6.4"
  }
 },
 "nbformat": 4,
 "nbformat_minor": 2
}
