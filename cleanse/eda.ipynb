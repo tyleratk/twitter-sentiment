{
 "cells": [
  {
   "cell_type": "code",
   "execution_count": 6,
   "metadata": {},
   "outputs": [],
   "source": [
    "import matplotlib.pyplot as plt\n",
    "import seaborn as sns\n",
    "import pickle\n",
    "from sklearn.feature_extraction.text import TfidfVectorizer, CountVectorizer\n",
    "from sklearn.decomposition import NMF,LatentDirichletAllocation\n",
    "%matplotlib inline"
   ]
  },
  {
   "cell_type": "code",
   "execution_count": 7,
   "metadata": {},
   "outputs": [],
   "source": [
    "with open('../data/clean_tweets.pkl', 'rb') as infile:\n",
    "    df = pickle.load(infile)"
   ]
  },
  {
   "cell_type": "code",
   "execution_count": 8,
   "metadata": {},
   "outputs": [
    {
     "data": {
      "text/plain": [
       "(809416, 19)"
      ]
     },
     "execution_count": 8,
     "metadata": {},
     "output_type": "execute_result"
    }
   ],
   "source": [
    "df.shape"
   ]
  },
  {
   "cell_type": "code",
   "execution_count": 4,
   "metadata": {},
   "outputs": [
    {
     "data": {
      "text/html": [
       "<div>\n",
       "<style scoped>\n",
       "    .dataframe tbody tr th:only-of-type {\n",
       "        vertical-align: middle;\n",
       "    }\n",
       "\n",
       "    .dataframe tbody tr th {\n",
       "        vertical-align: top;\n",
       "    }\n",
       "\n",
       "    .dataframe thead th {\n",
       "        text-align: right;\n",
       "    }\n",
       "</style>\n",
       "<table border=\"1\" class=\"dataframe\">\n",
       "  <thead>\n",
       "    <tr style=\"text-align: right;\">\n",
       "      <th></th>\n",
       "      <th>_id</th>\n",
       "      <th>coordinates</th>\n",
       "      <th>coordinates_type</th>\n",
       "      <th>country</th>\n",
       "      <th>created_at</th>\n",
       "      <th>default_profile_image</th>\n",
       "      <th>hash_tags</th>\n",
       "      <th>lang</th>\n",
       "      <th>text</th>\n",
       "      <th>tweet_location</th>\n",
       "      <th>user_created</th>\n",
       "      <th>user_followers</th>\n",
       "      <th>user_following</th>\n",
       "      <th>user_likes</th>\n",
       "      <th>user_location</th>\n",
       "      <th>user_num_tweets</th>\n",
       "      <th>user_screen_name</th>\n",
       "      <th>sentiment</th>\n",
       "      <th>sentiment_type</th>\n",
       "    </tr>\n",
       "  </thead>\n",
       "  <tbody>\n",
       "    <tr>\n",
       "      <th>0</th>\n",
       "      <td>5a5abc8f4dd9627aad3c1326</td>\n",
       "      <td>None</td>\n",
       "      <td>None</td>\n",
       "      <td>United States</td>\n",
       "      <td>Sun Jan 07 18:21:57 +0000 2018</td>\n",
       "      <td>False</td>\n",
       "      <td>[]</td>\n",
       "      <td>en</td>\n",
       "      <td>Because they’ll clap at a opp or someone who d...</td>\n",
       "      <td>Los Angeles, CA</td>\n",
       "      <td>Fri Aug 06 17:54:32 +0000 2010</td>\n",
       "      <td>1410</td>\n",
       "      <td>219</td>\n",
       "      <td>2253</td>\n",
       "      <td>Outer Space ↔️City of Angels</td>\n",
       "      <td>36230</td>\n",
       "      <td>ForeverKofi</td>\n",
       "      <td>-0.8720</td>\n",
       "      <td>neg</td>\n",
       "    </tr>\n",
       "    <tr>\n",
       "      <th>1</th>\n",
       "      <td>5a5abc8f4dd9627aad3c1327</td>\n",
       "      <td>[26.6167555, -80.0684479]</td>\n",
       "      <td>Point</td>\n",
       "      <td>United States</td>\n",
       "      <td>Sun Jan 07 18:21:57 +0000 2018</td>\n",
       "      <td>False</td>\n",
       "      <td>[{'text': 'job', 'indices': [34, 38]}]</td>\n",
       "      <td>en</td>\n",
       "      <td>Can you recommend anyone for this ? Daily Subs...</td>\n",
       "      <td>Lake Worth, FL</td>\n",
       "      <td>Sat Aug 21 04:43:48 +0000 2010</td>\n",
       "      <td>392</td>\n",
       "      <td>225</td>\n",
       "      <td>0</td>\n",
       "      <td>Florida</td>\n",
       "      <td>161</td>\n",
       "      <td>tmj_FL_EDU</td>\n",
       "      <td>0.3612</td>\n",
       "      <td>neu</td>\n",
       "    </tr>\n",
       "    <tr>\n",
       "      <th>2</th>\n",
       "      <td>5a5abc8f4dd9627aad3c1328</td>\n",
       "      <td>None</td>\n",
       "      <td>None</td>\n",
       "      <td>United States</td>\n",
       "      <td>Sun Jan 07 18:21:57 +0000 2018</td>\n",
       "      <td>False</td>\n",
       "      <td>[]</td>\n",
       "      <td>en</td>\n",
       "      <td>Memes to cope and I’m off work tomorrow</td>\n",
       "      <td>Waco, TX</td>\n",
       "      <td>Mon Oct 27 02:05:39 +0000 2008</td>\n",
       "      <td>565</td>\n",
       "      <td>359</td>\n",
       "      <td>10048</td>\n",
       "      <td>Waco, Texas</td>\n",
       "      <td>28053</td>\n",
       "      <td>dirtybohemia</td>\n",
       "      <td>0.0000</td>\n",
       "      <td>neu</td>\n",
       "    </tr>\n",
       "    <tr>\n",
       "      <th>3</th>\n",
       "      <td>5a5abc8f4dd9627aad3c1329</td>\n",
       "      <td>None</td>\n",
       "      <td>None</td>\n",
       "      <td>United States</td>\n",
       "      <td>Sun Jan 07 18:21:57 +0000 2018</td>\n",
       "      <td>False</td>\n",
       "      <td>[]</td>\n",
       "      <td>en</td>\n",
       "      <td>I cannot wait for August</td>\n",
       "      <td>Muncie, IN</td>\n",
       "      <td>Sat Jun 23 21:37:47 +0000 2012</td>\n",
       "      <td>533</td>\n",
       "      <td>850</td>\n",
       "      <td>9986</td>\n",
       "      <td>trapped inside my head</td>\n",
       "      <td>5539</td>\n",
       "      <td>ejanepuckett</td>\n",
       "      <td>0.0000</td>\n",
       "      <td>neu</td>\n",
       "    </tr>\n",
       "    <tr>\n",
       "      <th>4</th>\n",
       "      <td>5a5abc8f4dd9627aad3c132a</td>\n",
       "      <td>None</td>\n",
       "      <td>None</td>\n",
       "      <td>United States</td>\n",
       "      <td>Sun Jan 07 18:21:57 +0000 2018</td>\n",
       "      <td>False</td>\n",
       "      <td>[]</td>\n",
       "      <td>en</td>\n",
       "      <td>is water wet?!</td>\n",
       "      <td>Sheffield Lake, OH</td>\n",
       "      <td>Mon Nov 04 20:39:21 +0000 2013</td>\n",
       "      <td>201</td>\n",
       "      <td>237</td>\n",
       "      <td>9986</td>\n",
       "      <td>None</td>\n",
       "      <td>1467</td>\n",
       "      <td>emdavis1522</td>\n",
       "      <td>0.0000</td>\n",
       "      <td>neu</td>\n",
       "    </tr>\n",
       "  </tbody>\n",
       "</table>\n",
       "</div>"
      ],
      "text/plain": [
       "                        _id                coordinates coordinates_type  \\\n",
       "0  5a5abc8f4dd9627aad3c1326                       None             None   \n",
       "1  5a5abc8f4dd9627aad3c1327  [26.6167555, -80.0684479]            Point   \n",
       "2  5a5abc8f4dd9627aad3c1328                       None             None   \n",
       "3  5a5abc8f4dd9627aad3c1329                       None             None   \n",
       "4  5a5abc8f4dd9627aad3c132a                       None             None   \n",
       "\n",
       "         country                      created_at  default_profile_image  \\\n",
       "0  United States  Sun Jan 07 18:21:57 +0000 2018                  False   \n",
       "1  United States  Sun Jan 07 18:21:57 +0000 2018                  False   \n",
       "2  United States  Sun Jan 07 18:21:57 +0000 2018                  False   \n",
       "3  United States  Sun Jan 07 18:21:57 +0000 2018                  False   \n",
       "4  United States  Sun Jan 07 18:21:57 +0000 2018                  False   \n",
       "\n",
       "                                hash_tags lang  \\\n",
       "0                                      []   en   \n",
       "1  [{'text': 'job', 'indices': [34, 38]}]   en   \n",
       "2                                      []   en   \n",
       "3                                      []   en   \n",
       "4                                      []   en   \n",
       "\n",
       "                                                text      tweet_location  \\\n",
       "0  Because they’ll clap at a opp or someone who d...     Los Angeles, CA   \n",
       "1  Can you recommend anyone for this ? Daily Subs...      Lake Worth, FL   \n",
       "2            Memes to cope and I’m off work tomorrow            Waco, TX   \n",
       "3                           I cannot wait for August          Muncie, IN   \n",
       "4                                     is water wet?!  Sheffield Lake, OH   \n",
       "\n",
       "                     user_created  user_followers  user_following  user_likes  \\\n",
       "0  Fri Aug 06 17:54:32 +0000 2010            1410             219        2253   \n",
       "1  Sat Aug 21 04:43:48 +0000 2010             392             225           0   \n",
       "2  Mon Oct 27 02:05:39 +0000 2008             565             359       10048   \n",
       "3  Sat Jun 23 21:37:47 +0000 2012             533             850        9986   \n",
       "4  Mon Nov 04 20:39:21 +0000 2013             201             237        9986   \n",
       "\n",
       "                   user_location  user_num_tweets user_screen_name  sentiment  \\\n",
       "0  Outer Space ↔️City of Angels             36230      ForeverKofi    -0.8720   \n",
       "1                        Florida              161       tmj_FL_EDU     0.3612   \n",
       "2                    Waco, Texas            28053     dirtybohemia     0.0000   \n",
       "3        trapped inside my head              5539     ejanepuckett     0.0000   \n",
       "4                           None             1467      emdavis1522     0.0000   \n",
       "\n",
       "  sentiment_type  \n",
       "0            neg  \n",
       "1            neu  \n",
       "2            neu  \n",
       "3            neu  \n",
       "4            neu  "
      ]
     },
     "execution_count": 4,
     "metadata": {},
     "output_type": "execute_result"
    }
   ],
   "source": [
    "df.head()"
   ]
  },
  {
   "cell_type": "code",
   "execution_count": 9,
   "metadata": {},
   "outputs": [],
   "source": [
    "gb = df.groupby('sentiment_type')"
   ]
  },
  {
   "cell_type": "code",
   "execution_count": 10,
   "metadata": {},
   "outputs": [],
   "source": [
    "num_of_pos = gb.get_group('pos').shape[0]"
   ]
  },
  {
   "cell_type": "code",
   "execution_count": 11,
   "metadata": {},
   "outputs": [],
   "source": [
    "num_of_neu = gb.get_group('neu').shape[0]"
   ]
  },
  {
   "cell_type": "code",
   "execution_count": 12,
   "metadata": {},
   "outputs": [],
   "source": [
    "num_of_neg = gb.get_group('neg').shape[0]"
   ]
  },
  {
   "cell_type": "code",
   "execution_count": 13,
   "metadata": {},
   "outputs": [
    {
     "data": {
      "text/plain": [
       "<matplotlib.axes._subplots.AxesSubplot at 0x1a5fd846d8>"
      ]
     },
     "execution_count": 13,
     "metadata": {},
     "output_type": "execute_result"
    },
    {
     "data": {
      "image/png": "[encoded data removed]",
      "text/plain": [
       "<matplotlib.figure.Figure at 0x1a5fd846a0>"
      ]
     },
     "metadata": {},
     "output_type": "display_data"
    }
   ],
   "source": [
    "fig = plt.figure(figsize=(20, 8))\n",
    "sns.barplot(['pos', 'nue', 'neg'], [num_of_pos, num_of_neu, num_of_neg])"
   ]
  },
  {
   "cell_type": "code",
   "execution_count": 30,
   "metadata": {},
   "outputs": [],
   "source": [
    "# fig = plt.figure(figsize=(14, 6))\n",
    "# ax1 = fig.add_subplot(311)\n",
    "# ax1.set_title('Positive')\n",
    "# ax2 = fig.add_subplot(312)\n",
    "# ax2.set_title('Neutral')\n",
    "# ax3 = fig.add_subplot(313)\n",
    "# ax3.set_title('Negative')\n",
    "\n",
    "# sns.violinplot(gb.get_group('pos').sentiment, ax=ax1)\n",
    "# sns.violinplot(gb.get_group('neu').sentiment, ax=ax2)\n",
    "# sns.violinplot(gb.get_group('neg').sentiment, ax=ax3)\n",
    "# plt.xlabel('Sentiment')\n",
    "# plt.ylabel('')"
   ]
  },
  {
   "cell_type": "code",
   "execution_count": 14,
   "metadata": {},
   "outputs": [
    {
     "data": {
      "text/plain": [
       "Text(0.5,1,'Positive')"
      ]
     },
     "execution_count": 14,
     "metadata": {},
     "output_type": "execute_result"
    },
    {
     "data": {
      "image/png": "[encoded data removed]",
      "text/plain": [
       "<matplotlib.figure.Figure at 0x1a62265550>"
      ]
     },
     "metadata": {},
     "output_type": "display_data"
    }
   ],
   "source": [
    "sns.violinplot(gb.get_group('pos').sentiment)\n",
    "plt.title('Positive')"
   ]
  },
  {
   "cell_type": "code",
   "execution_count": 15,
   "metadata": {},
   "outputs": [
    {
     "data": {
      "text/plain": [
       "Text(0.5,1,'Neutral')"
      ]
     },
     "execution_count": 15,
     "metadata": {},
     "output_type": "execute_result"
    },
    {
     "data": {
      "image/png": "[encoded data removed]",
      "text/plain": [
       "<matplotlib.figure.Figure at 0x1a62218400>"
      ]
     },
     "metadata": {},
     "output_type": "display_data"
    }
   ],
   "source": [
    "sns.violinplot(gb.get_group('neu').sentiment)\n",
    "plt.title('Neutral')"
   ]
  },
  {
   "cell_type": "code",
   "execution_count": 16,
   "metadata": {},
   "outputs": [
    {
     "data": {
      "text/plain": [
       "Text(0.5,1,'Negative')"
      ]
     },
     "execution_count": 16,
     "metadata": {},
     "output_type": "execute_result"
    },
    {
     "data": {
      "image/png": "[encoded data removed]",
      "text/plain": [
       "<matplotlib.figure.Figure at 0x1a1f5f9cf8>"
      ]
     },
     "metadata": {},
     "output_type": "display_data"
    }
   ],
   "source": [
    "sns.violinplot(gb.get_group('neg').sentiment)\n",
    "plt.title('Negative')"
   ]
  },
  {
   "cell_type": "code",
   "execution_count": 20,
   "metadata": {},
   "outputs": [
    {
     "data": {
      "text/plain": [
       "302507"
      ]
     },
     "execution_count": 20,
     "metadata": {},
     "output_type": "execute_result"
    }
   ],
   "source": [
    "# df[df.sentiment == 0].shape[0]\n",
    "num_of_neu"
   ]
  },
  {
   "cell_type": "code",
   "execution_count": 27,
   "metadata": {},
   "outputs": [
    {
     "data": {
      "text/html": [
       "<div>\n",
       "<style scoped>\n",
       "    .dataframe tbody tr th:only-of-type {\n",
       "        vertical-align: middle;\n",
       "    }\n",
       "\n",
       "    .dataframe tbody tr th {\n",
       "        vertical-align: top;\n",
       "    }\n",
       "\n",
       "    .dataframe thead th {\n",
       "        text-align: right;\n",
       "    }\n",
       "</style>\n",
       "<table border=\"1\" class=\"dataframe\">\n",
       "  <thead>\n",
       "    <tr style=\"text-align: right;\">\n",
       "      <th></th>\n",
       "      <th>text</th>\n",
       "      <th>sentiment</th>\n",
       "    </tr>\n",
       "  </thead>\n",
       "  <tbody>\n",
       "    <tr>\n",
       "      <th>244670</th>\n",
       "      <td>NEED SUPPORTIVE FRIENDS 2018NEED SUPPORTIVE FR...</td>\n",
       "      <td>0.9959</td>\n",
       "    </tr>\n",
       "    <tr>\n",
       "      <th>480236</th>\n",
       "      <td>wow I am a Georgia Fan but your love of our H...</td>\n",
       "      <td>0.9956</td>\n",
       "    </tr>\n",
       "    <tr>\n",
       "      <th>485647</th>\n",
       "      <td>Good morning beautiful friends wishing you all...</td>\n",
       "      <td>0.9930</td>\n",
       "    </tr>\n",
       "    <tr>\n",
       "      <th>799280</th>\n",
       "      <td>THANK YOU KIND SIR 👮🏽‍♀️ BLESSINGS ABUNDANTLY ...</td>\n",
       "      <td>0.9918</td>\n",
       "    </tr>\n",
       "    <tr>\n",
       "      <th>440210</th>\n",
       "      <td>Happy Birthday to my beautiful, courageous, st...</td>\n",
       "      <td>0.9916</td>\n",
       "    </tr>\n",
       "    <tr>\n",
       "      <th>449078</th>\n",
       "      <td>Praise God thank you Jesus for another wonder...</td>\n",
       "      <td>0.9914</td>\n",
       "    </tr>\n",
       "    <tr>\n",
       "      <th>647957</th>\n",
       "      <td>Happy birthday to one of my favorite ladies ou...</td>\n",
       "      <td>0.9910</td>\n",
       "    </tr>\n",
       "    <tr>\n",
       "      <th>12035</th>\n",
       "      <td>stay positivestay positive stay positive stay ...</td>\n",
       "      <td>0.9910</td>\n",
       "    </tr>\n",
       "    <tr>\n",
       "      <th>171975</th>\n",
       "      <td>I Love u Guys so much. U mean the world to...</td>\n",
       "      <td>0.9904</td>\n",
       "    </tr>\n",
       "    <tr>\n",
       "      <th>143408</th>\n",
       "      <td>You’re seriously fucking gorgeous and amazing...</td>\n",
       "      <td>0.9899</td>\n",
       "    </tr>\n",
       "    <tr>\n",
       "      <th>639781</th>\n",
       "      <td>Perfectly Adorable. Perfectly Lavish. Perfectl...</td>\n",
       "      <td>0.9898</td>\n",
       "    </tr>\n",
       "    <tr>\n",
       "      <th>754373</th>\n",
       "      <td>i know things are shitty right now but never ...</td>\n",
       "      <td>0.9896</td>\n",
       "    </tr>\n",
       "    <tr>\n",
       "      <th>567750</th>\n",
       "      <td>Hey guys, as I said  before I have no idea abo...</td>\n",
       "      <td>0.9895</td>\n",
       "    </tr>\n",
       "    <tr>\n",
       "      <th>432435</th>\n",
       "      <td>Best game that shows God when in Control will ...</td>\n",
       "      <td>0.9894</td>\n",
       "    </tr>\n",
       "    <tr>\n",
       "      <th>578154</th>\n",
       "      <td>Please. Please. Please. Please. Please. Pleas...</td>\n",
       "      <td>0.9891</td>\n",
       "    </tr>\n",
       "  </tbody>\n",
       "</table>\n",
       "</div>"
      ],
      "text/plain": [
       "                                                     text  sentiment\n",
       "244670  NEED SUPPORTIVE FRIENDS 2018NEED SUPPORTIVE FR...     0.9959\n",
       "480236   wow I am a Georgia Fan but your love of our H...     0.9956\n",
       "485647  Good morning beautiful friends wishing you all...     0.9930\n",
       "799280  THANK YOU KIND SIR 👮🏽‍♀️ BLESSINGS ABUNDANTLY ...     0.9918\n",
       "440210  Happy Birthday to my beautiful, courageous, st...     0.9916\n",
       "449078   Praise God thank you Jesus for another wonder...     0.9914\n",
       "647957  Happy birthday to one of my favorite ladies ou...     0.9910\n",
       "12035   stay positivestay positive stay positive stay ...     0.9910\n",
       "171975      I Love u Guys so much. U mean the world to...     0.9904\n",
       "143408   You’re seriously fucking gorgeous and amazing...     0.9899\n",
       "639781  Perfectly Adorable. Perfectly Lavish. Perfectl...     0.9898\n",
       "754373   i know things are shitty right now but never ...     0.9896\n",
       "567750  Hey guys, as I said  before I have no idea abo...     0.9895\n",
       "432435  Best game that shows God when in Control will ...     0.9894\n",
       "578154   Please. Please. Please. Please. Please. Pleas...     0.9891"
      ]
     },
     "execution_count": 27,
     "metadata": {},
     "output_type": "execute_result"
    }
   ],
   "source": [
    "df[df.sentiment_type == 'pos'].sort_values('sentiment', ascending=False)[['text', 'sentiment']][10:25]"
   ]
  },
  {
   "cell_type": "code",
   "execution_count": 29,
   "metadata": {},
   "outputs": [
    {
     "data": {
      "text/html": [
       "<div>\n",
       "<style scoped>\n",
       "    .dataframe tbody tr th:only-of-type {\n",
       "        vertical-align: middle;\n",
       "    }\n",
       "\n",
       "    .dataframe tbody tr th {\n",
       "        vertical-align: top;\n",
       "    }\n",
       "\n",
       "    .dataframe thead th {\n",
       "        text-align: right;\n",
       "    }\n",
       "</style>\n",
       "<table border=\"1\" class=\"dataframe\">\n",
       "  <thead>\n",
       "    <tr style=\"text-align: right;\">\n",
       "      <th></th>\n",
       "      <th>text</th>\n",
       "      <th>sentiment</th>\n",
       "    </tr>\n",
       "  </thead>\n",
       "  <tbody>\n",
       "    <tr>\n",
       "      <th>437647</th>\n",
       "      <td>I really try to be a nice guy, but in the pa...</td>\n",
       "      <td>-0.9854</td>\n",
       "    </tr>\n",
       "    <tr>\n",
       "      <th>715652</th>\n",
       "      <td>THE WHITEHOUSE'S HOME SITE \"WELCOME TO THE W...</td>\n",
       "      <td>-0.9852</td>\n",
       "    </tr>\n",
       "    <tr>\n",
       "      <th>453094</th>\n",
       "      <td>White ppl are determined to oppressed so bad ...</td>\n",
       "      <td>-0.9849</td>\n",
       "    </tr>\n",
       "    <tr>\n",
       "      <th>767910</th>\n",
       "      <td>full offense but this is actually HORRIFYING??...</td>\n",
       "      <td>-0.9847</td>\n",
       "    </tr>\n",
       "    <tr>\n",
       "      <th>788726</th>\n",
       "      <td>I disagree. He had underlying mental issues...</td>\n",
       "      <td>-0.9843</td>\n",
       "    </tr>\n",
       "    <tr>\n",
       "      <th>763559</th>\n",
       "      <td>i work myself all the way up over doctors appo...</td>\n",
       "      <td>-0.9843</td>\n",
       "    </tr>\n",
       "    <tr>\n",
       "      <th>66163</th>\n",
       "      <td>Seriously she says she wants to fuck one membe...</td>\n",
       "      <td>-0.9838</td>\n",
       "    </tr>\n",
       "    <tr>\n",
       "      <th>759813</th>\n",
       "      <td>Not did OBUMMER do a bad job He tried to kill ...</td>\n",
       "      <td>-0.9833</td>\n",
       "    </tr>\n",
       "    <tr>\n",
       "      <th>317240</th>\n",
       "      <td>Black people are not slaves. If you disagree w...</td>\n",
       "      <td>-0.9829</td>\n",
       "    </tr>\n",
       "    <tr>\n",
       "      <th>76048</th>\n",
       "      <td>I'm not one for violence but this is war and t...</td>\n",
       "      <td>-0.9828</td>\n",
       "    </tr>\n",
       "  </tbody>\n",
       "</table>\n",
       "</div>"
      ],
      "text/plain": [
       "                                                     text  sentiment\n",
       "437647    I really try to be a nice guy, but in the pa...    -0.9854\n",
       "715652    THE WHITEHOUSE'S HOME SITE \"WELCOME TO THE W...    -0.9852\n",
       "453094   White ppl are determined to oppressed so bad ...    -0.9849\n",
       "767910  full offense but this is actually HORRIFYING??...    -0.9847\n",
       "788726     I disagree. He had underlying mental issues...    -0.9843\n",
       "763559  i work myself all the way up over doctors appo...    -0.9843\n",
       "66163   Seriously she says she wants to fuck one membe...    -0.9838\n",
       "759813  Not did OBUMMER do a bad job He tried to kill ...    -0.9833\n",
       "317240  Black people are not slaves. If you disagree w...    -0.9829\n",
       "76048   I'm not one for violence but this is war and t...    -0.9828"
      ]
     },
     "execution_count": 29,
     "metadata": {},
     "output_type": "execute_result"
    }
   ],
   "source": [
    "df[df.sentiment_type == 'neg'].sort_values('sentiment')[['text', 'sentiment']][20:30]"
   ]
  },
  {
   "cell_type": "code",
   "execution_count": 32,
   "metadata": {},
   "outputs": [
    {
     "data": {
      "text/plain": [
       "'i work myself all the way up over doctors appointments involving test results/planning for treatment. hate hate hate hate hate hate hate hate'"
      ]
     },
     "execution_count": 32,
     "metadata": {},
     "output_type": "execute_result"
    }
   ],
   "source": [
    "df.iloc[763559].text"
   ]
  },
  {
   "cell_type": "code",
   "execution_count": 1,
   "metadata": {},
   "outputs": [
    {
     "name": "stdout",
     "output_type": "stream",
     "text": [
      "\n",
      "Topics in NMF model:\n",
      "Topic 1:\n",
      "interested great texas north maybe folk flight florida focus yummy finish follow follower food football\n",
      "Topic 2:\n",
      "love fall know people miss tell watch girl song dude thing fucking baby guy rain\n",
      "Topic 3:\n",
      "happy birthday hope bday tuesday miss girl year sunday enjoy today make homie friend wait\n",
      "Topic 4:\n",
      "good friend luck thing morning hope look feel world know life year night time news\n",
      "Topic 5:\n",
      "thank follow share appreciate miss hope support girl glad make today goodness night bless sweet\n",
      "Topic 6:\n",
      "great manager time store technician associate game assistant hope service today team idea shift driver\n",
      "Topic 7:\n",
      "pron friend help hope life support need family appreciate tweet time start people trust welcome\n",
      "Topic 8:\n",
      "lmao nigga true need friend try know blow wild swear hear tell people wanna night\n",
      "Topic 9:\n",
      "want late work opening click team join beauty read view apply ulta advisor care seasonal\n",
      "Topic 10:\n",
      "just game make know play time look think amazing beautiful year need really come today\n",
      "\n",
      "\n",
      "Topics in NMF model:\n",
      "Topic 1:\n",
      "fuck bama niggas nigga georgia trump game shut rain outta today know dude holy alabama\n",
      "Topic 2:\n",
      "shit holy real talk niggas crazy right make year dumb piece really lose say look\n",
      "Topic 3:\n",
      "bitch come really niggas talk want shut money nigga literally dumb know right watch tell\n",
      "Topic 4:\n",
      "hate alabama people really fucking bama rain feel word work football absolutely love georgia twitter\n",
      "Topic 5:\n",
      "hell game happen holy sure shut think kick cold nigga change work coach class night\n",
      "Topic 6:\n",
      "pron know people make stop think stupid time bad need hurt really right want thing\n",
      "Topic 7:\n",
      "dead miss eye body sleep lmao right hear year try time come end really close\n",
      "Topic 8:\n",
      "sick feel make baby tired right head fucking know day georgia girl fan people watch\n",
      "Topic 9:\n",
      "just think want wanna happen say make break watch talk love need leave really thing\n",
      "Topic 10:\n",
      "kill game people time head try self come tryna girl sleep need follow today watch\n",
      "\n"
     ]
    }
   ],
   "source": [
    "%run nmf.py"
   ]
  },
  {
   "cell_type": "code",
   "execution_count": null,
   "metadata": {},
   "outputs": [],
   "source": []
  }
 ],
 "metadata": {
  "kernelspec": {
   "display_name": "Python 3",
   "language": "python",
   "name": "python3"
  },
  "language_info": {
   "codemirror_mode": {
    "name": "ipython",
    "version": 3
   },
   "file_extension": ".py",
   "mimetype": "text/x-python",
   "name": "python",
   "nbconvert_exporter": "python",
   "pygments_lexer": "ipython3",
   "version": "3.6.4"
  }
 },
 "nbformat": 4,
 "nbformat_minor": 2
}
